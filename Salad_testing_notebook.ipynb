{
 "cells": [
  {
   "cell_type": "markdown",
   "metadata": {},
   "source": [
    "## Import libraries"
   ]
  },
  {
   "cell_type": "code",
   "execution_count": 1,
   "metadata": {},
   "outputs": [],
   "source": [
    "import os\n",
    "import glob\n",
    "import re\n",
    "import timeit"
   ]
  },
  {
   "cell_type": "markdown",
   "metadata": {},
   "source": [
    "## Checking installation of package"
   ]
  },
  {
   "cell_type": "code",
   "execution_count": 6,
   "metadata": {},
   "outputs": [],
   "source": [
    "import example_pkg"
   ]
  },
  {
   "cell_type": "code",
   "execution_count": 8,
   "metadata": {
    "scrolled": true
   },
   "outputs": [
    {
     "data": {
      "text/plain": [
       "['__builtins__',\n",
       " '__cached__',\n",
       " '__doc__',\n",
       " '__file__',\n",
       " '__loader__',\n",
       " '__name__',\n",
       " '__package__',\n",
       " '__path__',\n",
       " '__spec__',\n",
       " 'base',\n",
       " 'salad']"
      ]
     },
     "execution_count": 8,
     "metadata": {},
     "output_type": "execute_result"
    }
   ],
   "source": [
    "dir(example_pkg)"
   ]
  },
  {
   "cell_type": "markdown",
   "metadata": {},
   "source": [
    "## Using Salad class functions"
   ]
  },
  {
   "cell_type": "code",
   "execution_count": 9,
   "metadata": {},
   "outputs": [],
   "source": [
    "class salad():\n",
    "\n",
    "    # import necessary libraries\n",
    "    import os\n",
    "    import glob\n",
    "    import re\n",
    "    \n",
    "    # Initialize class\n",
    "    def __init__(self):\n",
    "        self.path = \"\"\n",
    "        self.salad_ingredients = []\n",
    "        self.n_items = []\n",
    "        \n",
    "    # Define function to write files\n",
    "    def write(self, path, salad_ingredients, n_items):\n",
    "        \n",
    "        # Set path to read and write files\n",
    "        self.path = path\n",
    "        \n",
    "        # Check whether both lists are of the same length, otherwise return an error\n",
    "        assert len(salad_ingredients) == len(n_items), \"Not Cool\"\n",
    "        \n",
    "        # Make a nwe folder only if doesn't already exist in that path\n",
    "        os.makedirs(self.path, exist_ok = True) \n",
    "        \n",
    "        # Write files\n",
    "        # Go ingredient by ingredient\n",
    "        for k in range(len(salad_ingredients)):\n",
    "            # Go amount by amount\n",
    "            for j in range(n_items[k]):\n",
    "                # create file with specific format\n",
    "                file_name = salad_ingredients[k] + '{:0>2}'.format(j) + '.salad'\n",
    "                # Write file\n",
    "                f = open(os.path.join(self.path,file_name), \"w+\")\n",
    "                f.close\n",
    "    \n",
    "    # Define function to read files\n",
    "    def read(self, path):\n",
    "        \n",
    "        # Create a list with all file names ending with .salad\n",
    "        flist = glob.glob(os.path.join(path, '*.salad'))\n",
    "        \n",
    "        # Initialize empty result lists\n",
    "        ingredient = []\n",
    "        ingredient_number = []\n",
    "        \n",
    "        # Go file by file, parsing ingredient and file number\n",
    "        for file in flist:\n",
    "            \n",
    "            # Create regex of useful parts of the string\n",
    "            regex = r\"(\\w*)(\\d\\d)\"\n",
    "            \n",
    "            # Search file name\n",
    "            x = re.search(regex, file)\n",
    "            \n",
    "            # Parse file name and add to corresponding result list\n",
    "            ingredient.append(x.group(1))\n",
    "            ingredient_number.append(x.group(2))\n",
    "            \n",
    "            # Create dictionary\n",
    "            res_zip = zip(ingredient, ingredient_number)\n",
    "            res_dict = dict()\n",
    "            for k,v in res_zip:\n",
    "                res_dict.setdefault(k, []).append(v)\n",
    "          \n",
    "        return res_dict"
   ]
  },
  {
   "cell_type": "code",
   "execution_count": 11,
   "metadata": {},
   "outputs": [],
   "source": [
    "# Initialize class and specify arguments\n",
    "my_salad = salad()\n",
    "path = \"./mysalad\"\n",
    "salad_items = ['avocado', 'avocado', 'tomato', 'tomato']\n",
    "salad_numbers = [2,3,1,4]"
   ]
  },
  {
   "cell_type": "code",
   "execution_count": 12,
   "metadata": {
    "scrolled": true
   },
   "outputs": [],
   "source": [
    "# Write files\n",
    "salad.write(my_salad, path = path, salad_ingredients = salad_items, n_items = salad_numbers)"
   ]
  },
  {
   "cell_type": "code",
   "execution_count": 13,
   "metadata": {},
   "outputs": [],
   "source": [
    "# Read files\n",
    "x = salad.read(salad, path)"
   ]
  },
  {
   "cell_type": "code",
   "execution_count": 16,
   "metadata": {},
   "outputs": [
    {
     "data": {
      "text/plain": [
       "{'avocado': ['01', '00', '02'], 'tomato': ['03', '01', '00', '02']}"
      ]
     },
     "execution_count": 16,
     "metadata": {},
     "output_type": "execute_result"
    }
   ],
   "source": [
    "# Explore result\n",
    "x"
   ]
  },
  {
   "cell_type": "code",
   "execution_count": 14,
   "metadata": {},
   "outputs": [],
   "source": [
    "## Time operation\n",
    "start = timeit.timeit()\n",
    "salad.read(salad, path)\n",
    "end = timeit.timeit()\n",
    "t = end - start"
   ]
  },
  {
   "cell_type": "code",
   "execution_count": 15,
   "metadata": {},
   "outputs": [],
   "source": [
    "# Create result file\n",
    "f = open(\"final_salad.txt\", \"w+\")\n",
    "f.write(\"Name: Lucía \\n\")\n",
    "f.write(\"Surname: Ronchi Darre \\n\")\n",
    "f.write(\"Result: \")\n",
    "f.write(str(x))\n",
    "f.write(\"\\nTime to execute: \")\n",
    "f.write(str(t))\n",
    "f.close()"
   ]
  }
 ],
 "metadata": {
  "kernelspec": {
   "display_name": "Python 3",
   "language": "python",
   "name": "python3"
  },
  "language_info": {
   "codemirror_mode": {
    "name": "ipython",
    "version": 3
   },
   "file_extension": ".py",
   "mimetype": "text/x-python",
   "name": "python",
   "nbconvert_exporter": "python",
   "pygments_lexer": "ipython3",
   "version": "3.7.4"
  }
 },
 "nbformat": 4,
 "nbformat_minor": 2
}
